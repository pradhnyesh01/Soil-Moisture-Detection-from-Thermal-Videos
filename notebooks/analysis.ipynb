{
 "cells": [
  {
   "cell_type": "code",
   "execution_count": 7,
   "id": "91fbff23",
   "metadata": {},
   "outputs": [],
   "source": [
    "import sys\n",
    "import os\n",
    "\n",
    "project_root = '/Users/pradhnyesh/Documents/PJT-1'  # Your actual project root path\n",
    "if project_root not in sys.path:\n",
    "    sys.path.insert(0, project_root)\n"
   ]
  },
  {
   "cell_type": "code",
   "execution_count": 8,
   "id": "8baed13b",
   "metadata": {},
   "outputs": [
    {
     "name": "stdout",
     "output_type": "stream",
     "text": [
      "Processing video: /Users/pradhnyesh/Documents/PJT-1/dataset/dry/MOV_12770.mp4 with label: dry\n",
      "Processing video: /Users/pradhnyesh/Documents/PJT-1/dataset/dry/MOV_12764.mp4 with label: dry\n",
      "Processing video: /Users/pradhnyesh/Documents/PJT-1/dataset/dry/MOV_12758.mp4 with label: dry\n",
      "Processing video: /Users/pradhnyesh/Documents/PJT-1/dataset/dry/MOV_12759.mp4 with label: dry\n",
      "Processing video: /Users/pradhnyesh/Documents/PJT-1/dataset/dry/MOV_12765.mp4 with label: dry\n",
      "Processing video: /Users/pradhnyesh/Documents/PJT-1/dataset/dry/MOV_12771.mp4 with label: dry\n",
      "Processing video: /Users/pradhnyesh/Documents/PJT-1/dataset/dry/MOV_12767.mp4 with label: dry\n",
      "Processing video: /Users/pradhnyesh/Documents/PJT-1/dataset/dry/MOV_12773.mp4 with label: dry\n",
      "Processing video: /Users/pradhnyesh/Documents/PJT-1/dataset/dry/MOV_12772.mp4 with label: dry\n",
      "Processing video: /Users/pradhnyesh/Documents/PJT-1/dataset/dry/MOV_12766.mp4 with label: dry\n",
      "Processing video: /Users/pradhnyesh/Documents/PJT-1/dataset/dry/MOV_12762.mp4 with label: dry\n",
      "Processing video: /Users/pradhnyesh/Documents/PJT-1/dataset/dry/MOV_12776.mp4 with label: dry\n",
      "Processing video: /Users/pradhnyesh/Documents/PJT-1/dataset/dry/MOV_12777.mp4 with label: dry\n",
      "Processing video: /Users/pradhnyesh/Documents/PJT-1/dataset/dry/MOV_12763.mp4 with label: dry\n",
      "Processing video: /Users/pradhnyesh/Documents/PJT-1/dataset/dry/MOV_12749.mp4 with label: dry\n",
      "Processing video: /Users/pradhnyesh/Documents/PJT-1/dataset/dry/MOV_12775.mp4 with label: dry\n",
      "Processing video: /Users/pradhnyesh/Documents/PJT-1/dataset/dry/MOV_12761.mp4 with label: dry\n",
      "Processing video: /Users/pradhnyesh/Documents/PJT-1/dataset/dry/MOV_12760.mp4 with label: dry\n",
      "Processing video: /Users/pradhnyesh/Documents/PJT-1/dataset/dry/MOV_12774.mp4 with label: dry\n",
      "Processing video: /Users/pradhnyesh/Documents/PJT-1/dataset/dry/MOV_12748.mp4 with label: dry\n",
      "Processing video: /Users/pradhnyesh/Documents/PJT-1/dataset/dry/MOV_12751.mp4 with label: dry\n",
      "Processing video: /Users/pradhnyesh/Documents/PJT-1/dataset/dry/MOV_12745.mp4 with label: dry\n",
      "Processing video: /Users/pradhnyesh/Documents/PJT-1/dataset/dry/MOV_12779.mp4 with label: dry\n",
      "Processing video: /Users/pradhnyesh/Documents/PJT-1/dataset/dry/MOV_12778.mp4 with label: dry\n",
      "Processing video: /Users/pradhnyesh/Documents/PJT-1/dataset/dry/MOV_12744.mp4 with label: dry\n",
      "Processing video: /Users/pradhnyesh/Documents/PJT-1/dataset/dry/MOV_12750.mp4 with label: dry\n",
      "Processing video: /Users/pradhnyesh/Documents/PJT-1/dataset/dry/MOV_12746.mp4 with label: dry\n",
      "Processing video: /Users/pradhnyesh/Documents/PJT-1/dataset/dry/MOV_12752.mp4 with label: dry\n",
      "Processing video: /Users/pradhnyesh/Documents/PJT-1/dataset/dry/MOV_12753.mp4 with label: dry\n",
      "Processing video: /Users/pradhnyesh/Documents/PJT-1/dataset/dry/MOV_12747.mp4 with label: dry\n",
      "Processing video: /Users/pradhnyesh/Documents/PJT-1/dataset/dry/MOV_12743.mp4 with label: dry\n",
      "Processing video: /Users/pradhnyesh/Documents/PJT-1/dataset/dry/MOV_12757.mp4 with label: dry\n",
      "Processing video: /Users/pradhnyesh/Documents/PJT-1/dataset/dry/MOV_12780.mp4 with label: dry\n",
      "Processing video: /Users/pradhnyesh/Documents/PJT-1/dataset/dry/MOV_12781.mp4 with label: dry\n",
      "Processing video: /Users/pradhnyesh/Documents/PJT-1/dataset/dry/MOV_12756.mp4 with label: dry\n",
      "Processing video: /Users/pradhnyesh/Documents/PJT-1/dataset/dry/MOV_12742.mp4 with label: dry\n",
      "Processing video: /Users/pradhnyesh/Documents/PJT-1/dataset/dry/MOV_12768.mp4 with label: dry\n",
      "Processing video: /Users/pradhnyesh/Documents/PJT-1/dataset/dry/MOV_12754.mp4 with label: dry\n",
      "Processing video: /Users/pradhnyesh/Documents/PJT-1/dataset/dry/MOV_12783.mp4 with label: dry\n",
      "Processing video: /Users/pradhnyesh/Documents/PJT-1/dataset/dry/MOV_12782.mp4 with label: dry\n",
      "Processing video: /Users/pradhnyesh/Documents/PJT-1/dataset/dry/MOV_12755.mp4 with label: dry\n",
      "Processing video: /Users/pradhnyesh/Documents/PJT-1/dataset/dry/MOV_12769.mp4 with label: dry\n",
      "Processing video: /Users/pradhnyesh/Documents/PJT-1/dataset/wet/MOV_01-01-2000_0016.mp4 with label: wet\n",
      "Processing video: /Users/pradhnyesh/Documents/PJT-1/dataset/wet/MOV_01-01-2000_0017.mp4 with label: wet\n",
      "Processing video: /Users/pradhnyesh/Documents/PJT-1/dataset/wet/MOV_01-01-2000_0029.mp4 with label: wet\n",
      "Processing video: /Users/pradhnyesh/Documents/PJT-1/dataset/wet/MOV_01-01-2000_0015.mp4 with label: wet\n",
      "Processing video: /Users/pradhnyesh/Documents/PJT-1/dataset/wet/MOV_01-01-2000_0014.mp4 with label: wet\n",
      "Processing video: /Users/pradhnyesh/Documents/PJT-1/dataset/wet/MOV_01-01-2000_0028.mp4 with label: wet\n",
      "Processing video: /Users/pradhnyesh/Documents/PJT-1/dataset/wet/MOV_01-01-2000_0010.mp4 with label: wet\n",
      "Processing video: /Users/pradhnyesh/Documents/PJT-1/dataset/wet/MOV_01-01-2000_0004.mp4 with label: wet\n",
      "Processing video: /Users/pradhnyesh/Documents/PJT-1/dataset/wet/MOV_01-01-2000_0038.mp4 with label: wet\n",
      "Processing video: /Users/pradhnyesh/Documents/PJT-1/dataset/wet/MOV_01-01-2000_0039.mp4 with label: wet\n",
      "Processing video: /Users/pradhnyesh/Documents/PJT-1/dataset/wet/MOV_01-01-2000_0005.mp4 with label: wet\n",
      "Processing video: /Users/pradhnyesh/Documents/PJT-1/dataset/wet/MOV_01-01-2000_0011.mp4 with label: wet\n",
      "Processing video: /Users/pradhnyesh/Documents/PJT-1/dataset/wet/MOV_01-01-2000_0013.mp4 with label: wet\n",
      "Processing video: /Users/pradhnyesh/Documents/PJT-1/dataset/wet/MOV_01-01-2000_0012.mp4 with label: wet\n",
      "Processing video: /Users/pradhnyesh/Documents/PJT-1/dataset/wet/MOV_01-01-2000_0006.mp4 with label: wet\n",
      "Processing video: /Users/pradhnyesh/Documents/PJT-1/dataset/wet/MOV_01-01-2000_0023.mp4 with label: wet\n",
      "Processing video: /Users/pradhnyesh/Documents/PJT-1/dataset/wet/MOV_01-01-2000_0037.mp4 with label: wet\n",
      "Processing video: /Users/pradhnyesh/Documents/PJT-1/dataset/wet/MOV_01-01-2000_0036.mp4 with label: wet\n",
      "Processing video: /Users/pradhnyesh/Documents/PJT-1/dataset/wet/MOV_01-01-2000_0022.mp4 with label: wet\n",
      "Processing video: /Users/pradhnyesh/Documents/PJT-1/dataset/wet/MOV_01-01-2000_0008.mp4 with label: wet\n",
      "Processing video: /Users/pradhnyesh/Documents/PJT-1/dataset/wet/MOV_01-01-2000_0034.mp4 with label: wet\n",
      "Processing video: /Users/pradhnyesh/Documents/PJT-1/dataset/wet/MOV_01-01-2000_0020.mp4 with label: wet\n",
      "Processing video: /Users/pradhnyesh/Documents/PJT-1/dataset/wet/MOV_01-01-2000_0021.mp4 with label: wet\n",
      "Processing video: /Users/pradhnyesh/Documents/PJT-1/dataset/wet/MOV_01-01-2000_0035.mp4 with label: wet\n",
      "Processing video: /Users/pradhnyesh/Documents/PJT-1/dataset/wet/MOV_01-01-2000_0009.mp4 with label: wet\n",
      "Processing video: /Users/pradhnyesh/Documents/PJT-1/dataset/wet/MOV_01-01-2000_0031.mp4 with label: wet\n",
      "Processing video: /Users/pradhnyesh/Documents/PJT-1/dataset/wet/MOV_01-01-2000_0025.mp4 with label: wet\n",
      "Processing video: /Users/pradhnyesh/Documents/PJT-1/dataset/wet/MOV_01-01-2000_0019.mp4 with label: wet\n",
      "Processing video: /Users/pradhnyesh/Documents/PJT-1/dataset/wet/MOV_01-01-2000_0018.mp4 with label: wet\n",
      "Processing video: /Users/pradhnyesh/Documents/PJT-1/dataset/wet/MOV_01-01-2000_0024.mp4 with label: wet\n",
      "Processing video: /Users/pradhnyesh/Documents/PJT-1/dataset/wet/MOV_01-01-2000_0030.mp4 with label: wet\n",
      "Processing video: /Users/pradhnyesh/Documents/PJT-1/dataset/wet/MOV_01-01-2000_0026.mp4 with label: wet\n",
      "Processing video: /Users/pradhnyesh/Documents/PJT-1/dataset/wet/MOV_01-01-2000_0032.mp4 with label: wet\n",
      "Processing video: /Users/pradhnyesh/Documents/PJT-1/dataset/wet/MOV_01-01-2000_0027.mp4 with label: wet\n",
      "Processing video: /Users/pradhnyesh/Documents/PJT-1/dataset/wet/MOV_01-01-2000_0040.mp4 with label: wet\n",
      "\n",
      "All per-frame features saved to /Users/pradhnyesh/Documents/PJT-1/all_frame_features.csv. Showing preview:\n",
      "  video_file  frame_num   mean_temp   std_temp  max_temp  min_temp label_name  \\\n",
      "0  MOV_12770          0  120.686249  51.767361     255.0       3.0        dry   \n",
      "1  MOV_12770         30  115.545341  49.836132     255.0       0.0        dry   \n",
      "2  MOV_12770         60  136.425995  44.844059     255.0       0.0        dry   \n",
      "3  MOV_12770         90  127.272476  46.676472     255.0       0.0        dry   \n",
      "4  MOV_12770        120  119.874481  48.487061     255.0       0.0        dry   \n",
      "\n",
      "   label  \n",
      "0      0  \n",
      "1      0  \n",
      "2      0  \n",
      "3      0  \n",
      "4      0  \n",
      "\n",
      "Finished processing dataset folder. Video-level features preview:\n",
      "    mean_temp   std_temp  max_temp  min_temp  label\n",
      "0  125.211685  48.171890     255.0  0.157895      0\n",
      "1  122.767303  48.754745     255.0  0.244444      0\n",
      "2  119.244446  51.241348     255.0  0.325581      0\n",
      "3  128.434189  47.946213     255.0  0.234043      0\n",
      "4  123.606361  49.429504     255.0  0.166667      0\n"
     ]
    }
   ],
   "source": [
    "from src.data_processing import process_dataset_folder\n",
    "\n",
    "base_folder = '/Users/pradhnyesh/Documents/PJT-1/dataset'\n",
    "dataset_df = process_dataset_folder(base_folder, frames_save_root='/Users/pradhnyesh/Documents/PJT-1/saved_frames', out_csv_path='/Users/pradhnyesh/Documents/PJT-1/all_frame_features.csv')\n"
   ]
  },
  {
   "cell_type": "code",
   "execution_count": 10,
   "id": "6f84c2a8",
   "metadata": {},
   "outputs": [],
   "source": [
    "from sklearn.model_selection import train_test_split\n",
    "from sklearn.ensemble import RandomForestClassifier\n",
    "from sklearn.metrics import accuracy_score, classification_report"
   ]
  },
  {
   "cell_type": "code",
   "execution_count": 11,
   "id": "43ae6b91",
   "metadata": {},
   "outputs": [],
   "source": [
    "# Train and evaluate Random Forest classifier\n",
    "X = dataset_df[['mean_temp', 'std_temp', 'max_temp', 'min_temp']]\n",
    "y = dataset_df['label']\n",
    "\n",
    "X_train, X_test, y_train, y_test = train_test_split(X, y, test_size=0.2, random_state=42)"
   ]
  },
  {
   "cell_type": "code",
   "execution_count": 12,
   "id": "c90b4099",
   "metadata": {},
   "outputs": [
    {
     "name": "stdout",
     "output_type": "stream",
     "text": [
      "\n",
      "Training/testing data split:\n",
      "Train samples: 61, Test samples: 16\n",
      "Random Forest model trained.\n",
      "\n",
      "Test Accuracy: 0.812\n",
      "Classification Report:\n",
      "               precision    recall  f1-score   support\n",
      "\n",
      "           0       1.00      0.62      0.77         8\n",
      "           1       0.73      1.00      0.84         8\n",
      "\n",
      "    accuracy                           0.81        16\n",
      "   macro avg       0.86      0.81      0.81        16\n",
      "weighted avg       0.86      0.81      0.81        16\n",
      "\n"
     ]
    }
   ],
   "source": [
    "print(\"\\nTraining/testing data split:\")\n",
    "print(f\"Train samples: {X_train.shape[0]}, Test samples: {X_test.shape[0]}\")\n",
    "\n",
    "rf_clf = RandomForestClassifier(n_estimators=100, random_state=42)\n",
    "rf_clf.fit(X_train, y_train)\n",
    "print(\"Random Forest model trained.\")\n",
    "\n",
    "y_pred = rf_clf.predict(X_test)\n",
    "accuracy = accuracy_score(y_test, y_pred)\n",
    "print(f\"\\nTest Accuracy: {accuracy:.3f}\")\n",
    "print(\"Classification Report:\\n\", classification_report(y_test, y_pred))"
   ]
  },
  {
   "cell_type": "code",
   "execution_count": 13,
   "id": "75acfc77",
   "metadata": {},
   "outputs": [],
   "source": [
    "import numpy as np\n",
    "import cv2"
   ]
  },
  {
   "cell_type": "code",
   "execution_count": null,
   "id": "d5715153",
   "metadata": {},
   "outputs": [
    {
     "name": "stdout",
     "output_type": "stream",
     "text": [
      "Predicted soil moisture for video 'MOV_12747.mp4': dry\n"
     ]
    },
    {
     "name": "stderr",
     "output_type": "stream",
     "text": [
      "/opt/miniconda3/envs/pjt1/lib/python3.13/site-packages/sklearn/utils/validation.py:2749: UserWarning: X does not have valid feature names, but RandomForestClassifier was fitted with feature names\n",
      "  warnings.warn(\n"
     ]
    }
   ],
   "source": [
    "def extract_features_from_single_video(video_path, frame_skip=30):\n",
    "    cap = cv2.VideoCapture(video_path)\n",
    "    features = []\n",
    "    frame_count = 0\n",
    "    while True:\n",
    "        ret, frame = cap.read()\n",
    "        if not ret:\n",
    "            break\n",
    "        if frame_count % frame_skip == 0:\n",
    "            if len(frame.shape) == 3:\n",
    "                gray = cv2.cvtColor(frame, cv2.COLOR_BGR2GRAY)\n",
    "            else:\n",
    "                gray = frame\n",
    "            temp_map = gray.astype(np.float32)\n",
    "            mean_temp = np.mean(temp_map)\n",
    "            std_temp = np.std(temp_map)\n",
    "            max_temp = np.max(temp_map)\n",
    "            min_temp = np.min(temp_map)\n",
    "            features.append([mean_temp, std_temp, max_temp, min_temp])\n",
    "        frame_count += 1\n",
    "    cap.release()\n",
    "    features = np.array(features)\n",
    "    avg_features = features.mean(axis=0)\n",
    "    return avg_features\n",
    "\n",
    "def predict_soil_moisture(video_path, model, frame_skip=30):\n",
    "    feature_vector = extract_features_from_single_video(video_path, frame_skip)\n",
    "    feature_vector = feature_vector.reshape(1, -1)  # Reshape for sklearn input\n",
    "    predicted_label = model.predict(feature_vector)[0]\n",
    "    label_map = {0: 'dry', 1: 'wet'}\n",
    "    return label_map.get(predicted_label, \"Unknown\")\n",
    "\n",
    "test_video_path = \"/Users/pradhnyesh/Documents/PJT-1/dataset/dry/MOV_12747.mp4\"\n",
    "prediction = predict_soil_moisture(test_video_path, rf_clf, frame_skip=30)\n",
    "print(f\"Predicted soil moisture for video '{os.path.basename(test_video_path)}': {prediction}\")\n"
   ]
  },
  {
   "cell_type": "code",
   "execution_count": null,
   "id": "747e8a65",
   "metadata": {},
   "outputs": [],
   "source": []
  }
 ],
 "metadata": {
  "kernelspec": {
   "display_name": "pjt1",
   "language": "python",
   "name": "python3"
  },
  "language_info": {
   "codemirror_mode": {
    "name": "ipython",
    "version": 3
   },
   "file_extension": ".py",
   "mimetype": "text/x-python",
   "name": "python",
   "nbconvert_exporter": "python",
   "pygments_lexer": "ipython3",
   "version": "3.13.7"
  }
 },
 "nbformat": 4,
 "nbformat_minor": 5
}
